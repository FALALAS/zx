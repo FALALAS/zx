{
 "cells": [
  {
   "cell_type": "markdown",
   "metadata": {},
   "source": [
    "<p class=\"h2 display-4 text-center\">中国矿业大学（北京）</p>\n",
    "<p class=\"h2 display-4 text-center\">2022-2023学年第1学期本科课程线上考核（A卷）</p>\n",
    "<hr class=\"my-4\">\n",
    "<p class=\"h4\">课程名称：量化交易理论</p>\n",
    "<p class=\"h4\">课程性质：专业选修课</p>\n",
    "<p class=\"h4\">任课教师：李岩</p>"
   ]
  },
  {
   "cell_type": "markdown",
   "metadata": {},
   "source": [
    "<p class=\"h4\">学院班级：</p>"
   ]
  },
  {
   "cell_type": "markdown",
   "metadata": {},
   "source": []
  },
  {
   "cell_type": "markdown",
   "metadata": {},
   "source": [
    "<p class=\"h4\">姓名：</p>"
   ]
  },
  {
   "cell_type": "markdown",
   "metadata": {},
   "source": []
  },
  {
   "cell_type": "markdown",
   "metadata": {},
   "source": [
    "<p class=\"h4\">学号：</p>"
   ]
  },
  {
   "cell_type": "markdown",
   "metadata": {},
   "source": []
  },
  {
   "attachments": {
    "leesignatureSmall.gif": {
     "image/gif": "[encoded data removed]"
    }
   },
   "cell_type": "markdown",
   "metadata": {},
   "source": [
    "<hr class=\"my-4\">\n",
    "<p class=\"h4\">评分区域（由阅卷老师填写）</p>\n",
    "<p class=\"h2\">总分：</p>\n",
    "<p class=\"h2\">评分人：</p>\n",
    "\n",
    "![leesignatureSmall.gif](attachment:leesignatureSmall.gif)"
   ]
  },
  {
   "cell_type": "markdown",
   "metadata": {},
   "source": [
    "<hr class=\"my-4\">\n",
    "<p class=\"text text-danger text-center\" style=\"font-size:20pt\">答题要求</p>\n",
    "\n",
    "1. 答题时间<font color=\"red\"><strong>48小时</strong></font>，从2022年12月30日08:00 $\\to$ 2023年01月01日08:00。\n",
    "2. 答题完毕后在学习通上传答案，须提交`.ipynb`文件\n",
    "3. 题目具有研究性质，综合运用所学知识尽可能得到更好的结果。\n",
    "4. 每道题的解答须写出**必要**的步骤和过程，在每道题目后面增加单元格解答。\n",
    "5. 凡是涉及到`random_state`的，`random_state`的取值为个人学号的**后三位**构成的整数。\n",
    "6. 凡是涉及到划分训练集、检验集的，检验集的比例为$(\\text{学号}\\textbf{后三位}\\text{构成的整数}+100)/1000$。例如，如果学号**后三位**是202，则检验集的比例是$(202+100)/1000=0.302$\n",
    "7. 运算结果保留**三位小数**。\n",
    "8. 可以查询有关资料，但须**个人独立**完成。一旦发现提交文档完全一样的情况，均视作0分处理。\n",
    "<hr class=\"my-4\">"
   ]
  },
  {
   "cell_type": "markdown",
   "metadata": {},
   "source": [
    "<p class=\"lead\"><b>现有若干股票数据，数据格式为<code>.csv</code></b></p>，股票名称与代码见下表：\n",
    "\n",
    "|序号|股票|代码|\n",
    "|:---:|:---:|:---:|\n",
    "|0|华能国际|600011|\n",
    "|1|华夏银行|600015|\n",
    "|2|三一重工|600031|\n",
    "|3|东风汽车|600006|\n",
    "|4|中国神华|601088|\n",
    "|5|中煤能源|601898|\n",
    "|6|中信证券|600030|\n",
    "|7|中国船舶|600150|\n",
    "|8|工商银行|601398|"
   ]
  },
  {
   "cell_type": "markdown",
   "metadata": {},
   "source": [
    "- 利用下个单元格的代码获取需要分析的两只只股票**对应的序号**（序号见上表）。其中，令`random_state`的值更改为你的**学号后三位数字**\n",
    "    - 例如，学号后三位为102，则令`random_state=102`\n",
    "- 后续所有问题均针对**获取的两只股票**展开。"
   ]
  },
  {
   "cell_type": "code",
   "execution_count": null,
   "metadata": {},
   "outputs": [],
   "source": [
    "# 请运行该单元格，获取股票序号\n",
    "import pandas as pd\n",
    "stId = input('输入学号后三位：')\n",
    "idx = pd.Series(range(9)).sample(2, random_state=int(stId))\n",
    "print(f'获取的股票序号为{idx.values}')"
   ]
  },
  {
   "cell_type": "markdown",
   "metadata": {},
   "source": [
    "# 原始数据处理（计20分）"
   ]
  },
  {
   "cell_type": "markdown",
   "metadata": {},
   "source": [
    "- 读入两只标的数据存储成`DataFrame`格式，将日期列转换为时间格式，提取年月日，并将其设置为该`DataFrame`的`index`，删除两个数据中的`amount`和`open_interest`两列。（**5分**）\n",
    "- 给出两个数据集中的**开盘价、最高价、最低价、收盘价、成交量**的均值、标准差、最大值、最小值。（**5分**）\n",
    "- 两只股票各有哪些天是全天涨停、哪些天是全天跌停？（**5分**）\n",
    "    - 提示：全天涨停或跌停的特征是当天的最高价和最低价相等"
   ]
  },
  {
   "cell_type": "markdown",
   "metadata": {},
   "source": [
    "# 合约数据可视化展示（计20分）"
   ]
  },
  {
   "cell_type": "markdown",
   "metadata": {},
   "source": [
    "- 在选定的两只股票中，任选一只绘制**2020年以来**标的日度k线图，在k线图上绘制30日和120日均线，绘制相应时间段内的`ATR`指标（ATR的时间窗口是20天），并以副图形式显示，同时在副图上显示成交量。(**10分**)\n",
    "- 从两只股票的第一个交易日起各建立1手多头仓位并一直持有，绘制两只股票每日收益率(用收盘价计算)的直方图，并计算在99\\%置信度下的最大亏损各是多少。(**10分**)\n",
    "    - 提示1：直方图利用`pandas`的绘图方法，即`df.plot(kind='hist',bins=30)`\n",
    "    - 提示2：最大亏损计算用VaR。假设每只股票各有10万元的初始资金\n"
   ]
  },
  {
   "cell_type": "markdown",
   "metadata": {},
   "source": [
    "# 多因子模型选股（计30分）"
   ]
  },
  {
   "cell_type": "markdown",
   "metadata": {},
   "source": [
    "- 读取Famma-French三因子数据和无风险利率数据（**计5分**）\n",
    "    - Famma-French数据为`RESSET_THRFACDAT_DAILY.csv`\n",
    "    - 无风险利率数据为`shibor.csv`\n",
    "    - 提示：用横向合并三因子数据与无风险利率数据（连接方式为`inner`）\n",
    "- 构建并计算所选两只股票的Famma-French三因子模型（**计15分**）\n",
    "    - 无风险利率用银行间三个月拆借利率`shibor3M`\n",
    "- 假设采用多因子模型选股，这两只股票是否应当加入到股票池中？为什么？（**计10分**）"
   ]
  },
  {
   "cell_type": "code",
   "execution_count": 10,
   "metadata": {},
   "outputs": [
    {
     "name": "stdout",
     "output_type": "stream",
     "text": [
      "    日期_Date  市场溢酬因子__总市值加权_Rmrf_mc  市值因子__总市值加权_Smb_mc  账面市值比因子__总市值加权_Hml_mc\n",
      "0  1992/7/1                -0.0291              0.0098                 0.0017\n",
      "1  1992/7/2                -0.0039              0.0198                 0.0270\n",
      "2  1992/7/3                 0.0159              0.0001                -0.0127\n",
      "3  1992/7/6                -0.0082              0.0668                -0.2120\n",
      "4  1992/7/7                 0.0030              0.0374                -0.0056\n",
      "         date  shiborON  shibor1W  shibor2W  shibor1M  shibor3M  shibor6M  \\\n",
      "0  2012-01-04    3.4975    4.0208    4.6758    5.9133    5.4655    5.4243   \n",
      "1  2012-01-05    4.0000    4.5042    4.9192    5.8494    5.4615    5.4224   \n",
      "2  2012-01-06    3.9979    4.3008    4.6192    5.9483    5.4600    5.4214   \n",
      "3  2012-01-09    4.0000    4.5083    4.5583    5.9351    5.4602    5.4203   \n",
      "4  2012-01-10    3.6933    4.1017    4.5542    5.9339    5.4616    5.4218   \n",
      "\n",
      "   shibor9M  shibor1Y  \n",
      "0    5.2417    5.2364  \n",
      "1    5.2420    5.2376  \n",
      "2    5.2419    5.2393  \n",
      "3    5.2435    5.2375  \n",
      "4    5.2422    5.2373  \n"
     ]
    }
   ],
   "source": [
    "import numpy as np\n",
    "import pandas as pd\n",
    "ff = pd.read_csv('RESSET_THRFACDAT_DAILY.csv',encoding='GB2312')\n",
    "sb=pd.read_csv('shibor.csv',encoding='GB2312')\n",
    "print(ff.head())\n",
    "print(sb.head())\n"
   ]
  },
  {
   "cell_type": "code",
   "execution_count": null,
   "metadata": {},
   "outputs": [],
   "source": []
  },
  {
   "cell_type": "markdown",
   "metadata": {},
   "source": [
    "# 利用机器学习算法预测收益率（计30分）"
   ]
  },
  {
   "cell_type": "markdown",
   "metadata": {},
   "source": [
    "- 在给定的两只股票中，**任选一只完成本题目**\n",
    "- 将上题计算的**每日收益率**按照**大于0和小于等于0**分成两类，形成类别标签。（**5分**）\n",
    "- 读入该只股票对应的PE、OBV20、CCI20、MOMENTUM3M、REVS10、BETA21、CAPMALPHA21预测属性，并进行MinMax标准化。（**10分**）\n",
    "    - 因子数据文件名称为`股票代码-factors.csv`\n",
    "- 以上述因子为预测属性，构建机器学习模型，预测**下一个交易日**的收益率涨跌情况，并检验该分类模型效果。（**15分**）\n",
    "    - 检验集的比例按照**答题要求第6点**设置\n",
    "    - 学号末尾为**奇数**的选用**随机森林**算法\n",
    "    - 学号末尾为**偶数**的选用**AdaBoosting**算法"
   ]
  }
 ],
 "metadata": {
  "celltoolbar": "幻灯片",
  "hide_input": false,
  "kernelspec": {
   "display_name": "PyTorch",
   "language": "python",
   "name": "python3"
  },
  "language_info": {
   "codemirror_mode": {
    "name": "ipython",
    "version": 3
   },
   "file_extension": ".py",
   "mimetype": "text/x-python",
   "name": "python",
   "nbconvert_exporter": "python",
   "pygments_lexer": "ipython3",
   "version": "3.8.12"
  },
  "toc": {
   "base_numbering": 1,
   "nav_menu": {},
   "number_sections": true,
   "sideBar": true,
   "skip_h1_title": false,
   "title_cell": "Table of Contents",
   "title_sidebar": "Contents",
   "toc_cell": false,
   "toc_position": {},
   "toc_section_display": true,
   "toc_window_display": true
  },
  "vscode": {
   "interpreter": {
    "hash": "ddb2941159206907d7e8fb06ba010181cbde619c2d787dbe06feea1db101a228"
   }
  }
 },
 "nbformat": 4,
 "nbformat_minor": 4
}
